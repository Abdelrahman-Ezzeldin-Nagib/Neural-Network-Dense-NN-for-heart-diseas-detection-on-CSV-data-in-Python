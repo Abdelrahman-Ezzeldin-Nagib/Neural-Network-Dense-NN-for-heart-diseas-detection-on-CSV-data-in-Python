{
 "cells": [
  {
   "cell_type": "code",
   "execution_count": 1,
   "metadata": {},
   "outputs": [],
   "source": [
    "import pandas as pd\n",
    "df = pd.read_csv(r'E:/Z-Machine Learning/My Work/DataSets/Heart Diseas Detection/datasets_737503_1278636_heart.csv')"
   ]
  },
  {
   "cell_type": "code",
   "execution_count": 2,
   "metadata": {},
   "outputs": [],
   "source": [
    "y = df['target']\n",
    "df = df.drop(['target'],axis=1)"
   ]
  },
  {
   "cell_type": "code",
   "execution_count": 3,
   "metadata": {},
   "outputs": [],
   "source": [
    "import numpy as np \n",
    "df = np.array(df)"
   ]
  },
  {
   "cell_type": "code",
   "execution_count": 4,
   "metadata": {},
   "outputs": [],
   "source": [
    "from sklearn.preprocessing import MinMaxScaler\n",
    "scaler = MinMaxScaler()\n",
    "\n",
    "#df is your data variable for the training data\n",
    "scaler.fit(df)\n",
    "df = scaler.transform(df)\n"
   ]
  },
  {
   "cell_type": "code",
   "execution_count": 5,
   "metadata": {},
   "outputs": [],
   "source": [
    "xtr = []\n",
    "xts = []\n",
    "ytr = []\n",
    "yts = []"
   ]
  },
  {
   "cell_type": "code",
   "execution_count": null,
   "metadata": {},
   "outputs": [],
   "source": []
  },
  {
   "cell_type": "code",
   "execution_count": 6,
   "metadata": {},
   "outputs": [],
   "source": [
    "from sklearn.model_selection import train_test_split\n",
    "\n",
    "xtr, xts, ytr, yts = train_test_split(df, y, test_size=0.2, random_state=42)"
   ]
  },
  {
   "cell_type": "code",
   "execution_count": 7,
   "metadata": {},
   "outputs": [],
   "source": [
    "xtr = np.array(xtr)\n",
    "ytr = np.array(ytr)\n",
    "xts = np.array(xts)\n",
    "yts = np.array(yts)"
   ]
  },
  {
   "cell_type": "code",
   "execution_count": 8,
   "metadata": {},
   "outputs": [
    {
     "name": "stdout",
     "output_type": "stream",
     "text": [
      "Model: \"sequential\"\n",
      "_________________________________________________________________\n",
      "Layer (type)                 Output Shape              Param #   \n",
      "=================================================================\n",
      "flatten (Flatten)            (None, 13)                0         \n",
      "_________________________________________________________________\n",
      "dense (Dense)                (None, 200)               2800      \n",
      "_________________________________________________________________\n",
      "dense_1 (Dense)              (None, 160)               32160     \n",
      "_________________________________________________________________\n",
      "dense_2 (Dense)              (None, 130)               20930     \n",
      "_________________________________________________________________\n",
      "dense_3 (Dense)              (None, 1)                 131       \n",
      "=================================================================\n",
      "Total params: 56,021\n",
      "Trainable params: 56,021\n",
      "Non-trainable params: 0\n",
      "_________________________________________________________________\n",
      "Epoch 1/55\n",
      "18/18 [==============================] - 0s 7ms/step - loss: 0.6141 - acc: 0.6942 - val_loss: 0.4861 - val_acc: 0.8361\n",
      "Epoch 2/55\n",
      "18/18 [==============================] - 0s 2ms/step - loss: 0.4376 - acc: 0.8017 - val_loss: 0.4317 - val_acc: 0.8197\n",
      "Epoch 3/55\n",
      "18/18 [==============================] - 0s 2ms/step - loss: 0.3795 - acc: 0.8430 - val_loss: 0.3567 - val_acc: 0.8689\n",
      "Epoch 4/55\n",
      "18/18 [==============================] - 0s 2ms/step - loss: 0.4043 - acc: 0.8223 - val_loss: 0.3464 - val_acc: 0.8689\n",
      "Epoch 5/55\n",
      "18/18 [==============================] - 0s 2ms/step - loss: 0.3721 - acc: 0.8264 - val_loss: 0.3713 - val_acc: 0.8525\n",
      "Epoch 6/55\n",
      "18/18 [==============================] - 0s 2ms/step - loss: 0.3343 - acc: 0.8719 - val_loss: 0.3865 - val_acc: 0.8525\n",
      "Epoch 7/55\n",
      "18/18 [==============================] - 0s 2ms/step - loss: 0.3162 - acc: 0.8802 - val_loss: 0.4148 - val_acc: 0.8197\n",
      "Epoch 8/55\n",
      "18/18 [==============================] - 0s 2ms/step - loss: 0.3557 - acc: 0.8430 - val_loss: 0.3779 - val_acc: 0.8525\n",
      "Epoch 9/55\n",
      "18/18 [==============================] - ETA: 0s - loss: 0.3080 - acc: 0.857 - 0s 2ms/step - loss: 0.3166 - acc: 0.8678 - val_loss: 0.3660 - val_acc: 0.8689\n",
      "Epoch 10/55\n",
      "18/18 [==============================] - 0s 2ms/step - loss: 0.2934 - acc: 0.8926 - val_loss: 0.3624 - val_acc: 0.8689\n",
      "Epoch 11/55\n",
      "18/18 [==============================] - 0s 2ms/step - loss: 0.2816 - acc: 0.8967 - val_loss: 0.3727 - val_acc: 0.8689\n",
      "Epoch 12/55\n",
      "18/18 [==============================] - 0s 2ms/step - loss: 0.2970 - acc: 0.8554 - val_loss: 0.3488 - val_acc: 0.8852\n",
      "Epoch 13/55\n",
      "18/18 [==============================] - 0s 2ms/step - loss: 0.3057 - acc: 0.8512 - val_loss: 0.3808 - val_acc: 0.8525\n",
      "Epoch 14/55\n",
      "18/18 [==============================] - 0s 2ms/step - loss: 0.2582 - acc: 0.8926 - val_loss: 0.4627 - val_acc: 0.8197\n",
      "Epoch 15/55\n",
      "18/18 [==============================] - 0s 2ms/step - loss: 0.2858 - acc: 0.8760 - val_loss: 0.3888 - val_acc: 0.8689\n",
      "Epoch 16/55\n",
      "18/18 [==============================] - 0s 2ms/step - loss: 0.2435 - acc: 0.8926 - val_loss: 0.4199 - val_acc: 0.8689\n",
      "Epoch 17/55\n",
      "18/18 [==============================] - 0s 2ms/step - loss: 0.2689 - acc: 0.8884 - val_loss: 0.4100 - val_acc: 0.8689\n",
      "Epoch 18/55\n",
      "18/18 [==============================] - 0s 2ms/step - loss: 0.2100 - acc: 0.9256 - val_loss: 0.4651 - val_acc: 0.8689\n",
      "Epoch 19/55\n",
      "18/18 [==============================] - 0s 2ms/step - loss: 0.2078 - acc: 0.9091 - val_loss: 0.4798 - val_acc: 0.8689\n",
      "Epoch 20/55\n",
      "18/18 [==============================] - 0s 2ms/step - loss: 0.1826 - acc: 0.9421 - val_loss: 0.5695 - val_acc: 0.8197\n",
      "Epoch 21/55\n",
      "18/18 [==============================] - 0s 3ms/step - loss: 0.1969 - acc: 0.9298 - val_loss: 0.5260 - val_acc: 0.8689\n",
      "Epoch 22/55\n",
      "18/18 [==============================] - 0s 3ms/step - loss: 0.1769 - acc: 0.9339 - val_loss: 0.5534 - val_acc: 0.8689\n",
      "Epoch 23/55\n",
      "18/18 [==============================] - 0s 2ms/step - loss: 0.1504 - acc: 0.9628 - val_loss: 0.5900 - val_acc: 0.8361\n",
      "Epoch 24/55\n",
      "18/18 [==============================] - 0s 2ms/step - loss: 0.1464 - acc: 0.9421 - val_loss: 0.5745 - val_acc: 0.8689\n",
      "Epoch 25/55\n",
      "18/18 [==============================] - 0s 2ms/step - loss: 0.1237 - acc: 0.9628 - val_loss: 0.6303 - val_acc: 0.8689\n",
      "Epoch 26/55\n",
      "18/18 [==============================] - 0s 2ms/step - loss: 0.1134 - acc: 0.9669 - val_loss: 0.6401 - val_acc: 0.8689\n",
      "Epoch 27/55\n",
      "18/18 [==============================] - 0s 2ms/step - loss: 0.1119 - acc: 0.9628 - val_loss: 0.7162 - val_acc: 0.8689\n",
      "Epoch 28/55\n",
      "18/18 [==============================] - 0s 2ms/step - loss: 0.1124 - acc: 0.9628 - val_loss: 0.7434 - val_acc: 0.8525\n",
      "Epoch 29/55\n",
      "18/18 [==============================] - 0s 2ms/step - loss: 0.1120 - acc: 0.9545 - val_loss: 0.7647 - val_acc: 0.8689\n",
      "Epoch 30/55\n",
      "18/18 [==============================] - 0s 2ms/step - loss: 0.1095 - acc: 0.9587 - val_loss: 0.7804 - val_acc: 0.8689\n",
      "Epoch 31/55\n",
      "18/18 [==============================] - 0s 2ms/step - loss: 0.1103 - acc: 0.9504 - val_loss: 0.7457 - val_acc: 0.8689\n",
      "Epoch 32/55\n",
      "18/18 [==============================] - 0s 3ms/step - loss: 0.1135 - acc: 0.9545 - val_loss: 0.8127 - val_acc: 0.8689\n",
      "Epoch 33/55\n",
      "18/18 [==============================] - 0s 2ms/step - loss: 0.1279 - acc: 0.9463 - val_loss: 0.7875 - val_acc: 0.8689\n",
      "Epoch 34/55\n",
      "18/18 [==============================] - 0s 2ms/step - loss: 0.1201 - acc: 0.9545 - val_loss: 0.8336 - val_acc: 0.8689\n",
      "Epoch 35/55\n",
      "18/18 [==============================] - 0s 2ms/step - loss: 0.0764 - acc: 0.9793 - val_loss: 0.8657 - val_acc: 0.8525\n",
      "Epoch 36/55\n",
      "18/18 [==============================] - 0s 2ms/step - loss: 0.0717 - acc: 0.9793 - val_loss: 0.9252 - val_acc: 0.8689\n",
      "Epoch 37/55\n",
      "18/18 [==============================] - 0s 2ms/step - loss: 0.0678 - acc: 0.9752 - val_loss: 0.9741 - val_acc: 0.8689\n",
      "Epoch 38/55\n",
      "18/18 [==============================] - 0s 2ms/step - loss: 0.0942 - acc: 0.9711 - val_loss: 0.9586 - val_acc: 0.8525\n",
      "Epoch 39/55\n",
      "18/18 [==============================] - 0s 2ms/step - loss: 0.0602 - acc: 0.9793 - val_loss: 1.0223 - val_acc: 0.8689\n",
      "Epoch 40/55\n",
      "18/18 [==============================] - 0s 2ms/step - loss: 0.0658 - acc: 0.9793 - val_loss: 1.0455 - val_acc: 0.8689\n",
      "Epoch 41/55\n",
      "18/18 [==============================] - 0s 2ms/step - loss: 0.0508 - acc: 0.9876 - val_loss: 1.1329 - val_acc: 0.8525\n",
      "Epoch 42/55\n",
      "18/18 [==============================] - 0s 3ms/step - loss: 0.0544 - acc: 0.9793 - val_loss: 1.1417 - val_acc: 0.8689\n",
      "Epoch 43/55\n",
      "18/18 [==============================] - 0s 3ms/step - loss: 0.0441 - acc: 0.9835 - val_loss: 1.1089 - val_acc: 0.8689\n",
      "Epoch 44/55\n",
      "18/18 [==============================] - 0s 2ms/step - loss: 0.0502 - acc: 0.9793 - val_loss: 1.1808 - val_acc: 0.8689\n",
      "Epoch 45/55\n",
      "18/18 [==============================] - 0s 2ms/step - loss: 0.0544 - acc: 0.9835 - val_loss: 1.2173 - val_acc: 0.8525\n",
      "Epoch 46/55\n",
      "18/18 [==============================] - 0s 2ms/step - loss: 0.0425 - acc: 0.9917 - val_loss: 1.2410 - val_acc: 0.8525\n",
      "Epoch 47/55\n",
      "18/18 [==============================] - 0s 2ms/step - loss: 0.0403 - acc: 0.9876 - val_loss: 1.2748 - val_acc: 0.8525\n",
      "Epoch 48/55\n",
      "18/18 [==============================] - 0s 2ms/step - loss: 0.0357 - acc: 0.9876 - val_loss: 1.3458 - val_acc: 0.8525\n",
      "Epoch 49/55\n",
      "18/18 [==============================] - 0s 2ms/step - loss: 0.0285 - acc: 0.9876 - val_loss: 1.2573 - val_acc: 0.8689\n",
      "Epoch 50/55\n",
      "18/18 [==============================] - 0s 2ms/step - loss: 0.0308 - acc: 0.9793 - val_loss: 1.5232 - val_acc: 0.8525\n",
      "Epoch 51/55\n",
      "18/18 [==============================] - 0s 2ms/step - loss: 0.0399 - acc: 0.9835 - val_loss: 1.4943 - val_acc: 0.8525\n",
      "Epoch 52/55\n",
      "18/18 [==============================] - 0s 2ms/step - loss: 0.0333 - acc: 0.9835 - val_loss: 1.3999 - val_acc: 0.8525\n",
      "Epoch 53/55\n",
      "18/18 [==============================] - 0s 2ms/step - loss: 0.0243 - acc: 0.9917 - val_loss: 1.4853 - val_acc: 0.8525\n",
      "Epoch 54/55\n",
      "18/18 [==============================] - 0s 2ms/step - loss: 0.0193 - acc: 0.9959 - val_loss: 1.5200 - val_acc: 0.8689\n",
      "Epoch 55/55\n"
     ]
    },
    {
     "name": "stdout",
     "output_type": "stream",
     "text": [
      " 1/18 [>.............................] - ETA: 0s - loss: 0.0081 - acc: 1.0000\b\b\b\b\b\b\b\b\b\b\b\b\b\b\b\b\b\b\b\b\b\b\b\b\b\b\b\b\b\b\b\b\b\b\b\b\b\b\b\b\b\b\b\b\b\b\b\b\b\b\b\b\b\b\b\b\b\b\b\b\b\b\b\b\b\b\b\b\b\b\b\b\b\b\b\b\b\r",
      "18/18 [==============================] - 0s 2ms/step - loss: 0.0198 - acc: 0.9917 - val_loss: 1.5008 - val_acc: 0.8525\n"
     ]
    }
   ],
   "source": [
    "from tensorflow import keras\n",
    "model = keras.Sequential([\n",
    "    keras.layers.Flatten(input_shape=(13,)),\n",
    "    keras.layers.Dense(200, activation='relu'),\n",
    "    keras.layers.Dense(160, activation='relu'),\n",
    "    keras.layers.Dense(130, activation='relu'),\n",
    "    keras.layers.Dense(1, activation='sigmoid'),\n",
    "])\n",
    "\n",
    "\n",
    "model.compile(optimizer='adam',\n",
    "              loss='binary_crossentropy',\n",
    "              metrics=['acc'])\n",
    "\n",
    "model.summary()\n",
    "hist = model.fit(xtr, ytr,\n",
    "          batch_size=14, epochs=55,\n",
    "          validation_data=(xts, yts))\n"
   ]
  },
  {
   "cell_type": "code",
   "execution_count": 9,
   "metadata": {},
   "outputs": [
    {
     "data": {
      "text/plain": [
       "(array([138., 165.]), array([0. , 0.5, 1. ]), <a list of 2 Patch objects>)"
      ]
     },
     "execution_count": 9,
     "metadata": {},
     "output_type": "execute_result"
    },
    {
     "data": {
      "image/png": "[encoded data removed]",
      "text/plain": [
       "<Figure size 432x288 with 1 Axes>"
      ]
     },
     "metadata": {
      "needs_background": "light"
     },
     "output_type": "display_data"
    }
   ],
   "source": [
    "import matplotlib.pyplot as plt\n",
    "plt.hist(y, bins =2)"
   ]
  }
 ],
 "metadata": {
  "kernelspec": {
   "display_name": "Python 3",
   "language": "python",
   "name": "python3"
  },
  "language_info": {
   "codemirror_mode": {
    "name": "ipython",
    "version": 3
   },
   "file_extension": ".py",
   "mimetype": "text/x-python",
   "name": "python",
   "nbconvert_exporter": "python",
   "pygments_lexer": "ipython3",
   "version": "3.7.6"
  }
 },
 "nbformat": 4,
 "nbformat_minor": 4
}
